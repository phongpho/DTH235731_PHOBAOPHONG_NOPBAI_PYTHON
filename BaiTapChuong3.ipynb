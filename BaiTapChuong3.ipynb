{
 "cells": [
  {
   "cell_type": "code",
   "execution_count": 16,
   "id": "63de7536",
   "metadata": {},
   "outputs": [
    {
     "name": "stdout",
     "output_type": "stream",
     "text": [
      "Câu 1: Chương trình kiểm tra năm nhuần\n",
      "Năm 2020 là năm nhuần\n"
     ]
    }
   ],
   "source": [
    "print('Câu 1: Chương trình kiểm tra năm nhuần')\n",
    "year = int(input('Mời nhập năm cần kiểm tra: '))\n",
    "if(year % 4 == 0 and year % 100 != 0) or (year % 400 == 0):\n",
    "    print(f'Năm {year} là năm nhuần')\n",
    "else:\n",
    "    print(f'Năm {year} không phải là năm nhuần')\n"
   ]
  },
  {
   "cell_type": "code",
   "execution_count": 14,
   "id": "d834af36",
   "metadata": {},
   "outputs": [
    {
     "name": "stdout",
     "output_type": "stream",
     "text": [
      "Câu 2: Chương trình đếm số ngày trong tháng\n",
      "Tháng 2 có 29 ngày\n"
     ]
    }
   ],
   "source": [
    "print('Câu 2: Chương trình đếm số ngày trong tháng')\n",
    "month = int(input('Mời nhập tháng cần kiểm tra: '))\n",
    "if month in [1, 3, 5, 7, 8, 10, 12]:\n",
    "    print(f'Tháng {month} có 31 ngày')\n",
    "elif month in [4, 6, 9, 11]:\n",
    "    print(f'Tháng {month} có 30 ngày')\n",
    "elif month == 2:\n",
    "        year = int(input('Mời nhập năm để kiểm tra số ngày trong tháng 2: '))\n",
    "\n",
    "        if (year % 4 == 0 and year % 100 != 0) or (year % 400 == 0):\n",
    "            print(f'Tháng {month} có 29 ngày')\n",
    "        else:\n",
    "            print(f'Tháng {month} có 28 ngày')"
   ]
  },
  {
   "cell_type": "code",
   "execution_count": 13,
   "id": "300a3397",
   "metadata": {},
   "outputs": [
    {
     "name": "stdout",
     "output_type": "stream",
     "text": [
      "Câu 3: Chương trình giải phương trình bậc 2!\n",
      "Vô số nghiệm\n"
     ]
    }
   ],
   "source": [
    "print('Câu 3: Chương trình giải phương trình bậc 2!')\n",
    "from math import sqrt\n",
    "a=float(input(\"Nhập a:\"))\n",
    "b=float(input(\"Nhập b:\"))\n",
    "c=float(input(\"Nhập c:\"))\n",
    "if a == 0:\n",
    "    if b == 0 and c ==0:\n",
    "        print(\"Vô số nghiệm\")\n",
    "    elif b==0 and c !=0:\n",
    "        print(\"Vô nghiệm\")\n",
    "    else:\n",
    "        x=-c/b\n",
    "        print(\"No x=\",x)\n",
    "else:\n",
    "    delta=b**2-4*a*c\n",
    "    if delta <0 :\n",
    "         print(\"Vô No\")\n",
    "    elif delta ==0:\n",
    "        x=-b/(2*a)\n",
    "        print(\"No kép x1=x2=\",x)\n",
    "    else:\n",
    "        x1=(-b-sqrt(delta))/(2*a)\n",
    "        x2=(-b+sqrt(delta))/(2*a)\n",
    "        print(\"x1=\",x1)\n",
    "        print(\"x2=\",x2)"
   ]
  },
  {
   "cell_type": "code",
   "execution_count": 12,
   "id": "40261839",
   "metadata": {},
   "outputs": [
    {
     "name": "stdout",
     "output_type": "stream",
     "text": [
      "Câu 4: Chương trình cho biết kết quả của Boolean Expression\n",
      "x ==3 True\n",
      "x < y True\n",
      "x >= y False\n",
      "x <= y True\n",
      "x != y - 2 False\n",
      "x < 10 True\n",
      "x >= 0 and x < 10 True\n",
      "x < 0 and x < 10 False\n",
      "x >= 0 and x < 2 False\n",
      "x < 0 or x < 10 True\n",
      "x > 0 or x < 10 True\n",
      "x < 0 or x > 10 False\n"
     ]
    }
   ],
   "source": [
    "print('Câu 4: Chương trình cho biết kết quả của Boolean Expression')\n",
    "x, y, z = 3, 5, 7\n",
    "print('x ==3', x == 3)\n",
    "print('x < y', x < y)\n",
    "print('x >= y', x >= y)\n",
    "print('x <= y', x <= y)\n",
    "print('x != y - 2', x != y - 2)\n",
    "print('x < 10', x < 10 )\n",
    "print('x >= 0 and x < 10', x >= 0 and x < 10)\n",
    "print('x < 0 and x < 10', x < 0 and x < 10)\n",
    "print('x >= 0 and x < 2', x >= 0 and x < 2)\n",
    "print('x < 0 or x < 10', x < 0 or x < 10)\n",
    "print('x > 0 or x < 10', x > 0 or x < 10)\n",
    "print('x < 0 or x > 10', x < 0 or x > 10)"
   ]
  },
  {
   "cell_type": "code",
   "execution_count": 35,
   "id": "bdfcfbe0",
   "metadata": {},
   "outputs": [
    {
     "name": "stdout",
     "output_type": "stream",
     "text": [
      "Câu 5: Chương trình cho biết kết quả xuất ra màn hình\n",
      "(a) i = 3, j = 5, and k = 7\n",
      "(b) i = 3, j = 7, and k = 5\n",
      "(c) i = 5, j = 3, and k = 7\n",
      "(d) i = 5, j = 7, and k = 3\n",
      "(e) i = 7, j = 3, and k = 5\n",
      "(f) i = 7, j = 5, and k = 3\n",
      "Kết quả:\n",
      "(a) i = 5, j = 5, k = 7\n",
      "(b) i = 3, j = 5, k = 5\n",
      "(c) i = 5, j = 5, k = 7\n",
      "(d) i = 5, j = 3, k = 3\n",
      "(e) i = 5, j = 3, k = 5\n",
      "(f) i = 3, j = 5, k = 3\n"
     ]
    }
   ],
   "source": [
    "print('Câu 5: Chương trình cho biết kết quả xuất ra màn hình')\n",
    "'''\n",
    "i, j, k = 3, 5, 7\n",
    "if i < j:\n",
    "    if j < k:\n",
    "        i = j\n",
    "    else:\n",
    "        j = k\n",
    "else:\n",
    "    if i < k:\n",
    "        j = i\n",
    "    else:\n",
    "        i = k\n",
    "print(i, j, k)\n",
    "'''\n",
    "print('(a) i = 3, j = 5, and k = 7\\n(b) i = 3, j = 7, and k = 5\\n'\n",
    "      '(c) i = 5, j = 3, and k = 7\\n(d) i = 5, j = 7, and k = 3\\n'\n",
    "      '(e) i = 7, j = 3, and k = 5\\n(f) i = 7, j = 5, and k = 3')\n",
    "print('Kết quả:')\n",
    "def temp(i, j, k):\n",
    "    if i < j:\n",
    "        if j < k:\n",
    "            i = j\n",
    "        else:\n",
    "            j = k\n",
    "    else:\n",
    "        if i < k:\n",
    "            j = i\n",
    "        else:\n",
    "            i = k\n",
    "    return i, j, k\n",
    "array = [\n",
    "    (\"(a)\", 3, 5, 7),\n",
    "    (\"(b)\", 3, 7, 5),\n",
    "    (\"(c)\", 5, 3, 7),\n",
    "    (\"(d)\", 5, 7, 3),\n",
    "    (\"(e)\", 7, 3, 5),\n",
    "    (\"(f)\", 7, 5, 3),\n",
    "]\n",
    "for label, i, j, k in array:\n",
    "    i, j, k = temp(i, j, k)\n",
    "    print(f\"{label} i = {i}, j = {j}, k = {k}\")"
   ]
  },
  {
   "cell_type": "code",
   "execution_count": 39,
   "id": "d88cfc44",
   "metadata": {},
   "outputs": [
    {
     "name": "stdout",
     "output_type": "stream",
     "text": [
      "Câu 6: Chương trình đọc số\n",
      "Đầu vào không hợp lệ. Vui lòng nhập một số nguyên dương.\n",
      "Số 2 đọc là: hai\n"
     ]
    }
   ],
   "source": [
    "print('Câu 6: Chương trình đọc số')\n",
    "def doc_so(n):\n",
    "    hang_chuc = [\"\", \"mười\", \"hai mươi\", \"ba mươi\", \"bốn mươi\",\n",
    "                 \"năm mươi\", \"sáu mươi\", \"bảy mươi\", \"tám mươi\", \"chín mươi\"]\n",
    "    hang_don_vi = [\"không\", \"một\", \"hai\", \"ba\", \"bốn\",\n",
    "                   \"năm\", \"sáu\", \"bảy\", \"tám\", \"chín\"]\n",
    "\n",
    "    if n < 10:  \n",
    "        return hang_don_vi[n]\n",
    "    elif 10 <= n < 20:\n",
    "        if n == 10:\n",
    "            return \"mười\"\n",
    "        elif n == 15:\n",
    "            return \"mười lăm\"\n",
    "        else:\n",
    "            return \"mười \" + hang_don_vi[n % 10]\n",
    "    else:  \n",
    "        chuc = n // 10\n",
    "        don_vi = n % 10\n",
    "        if don_vi == 0:\n",
    "            return hang_chuc[chuc]\n",
    "        elif don_vi == 5:\n",
    "            return hang_chuc[chuc] + \" lăm\"\n",
    "        else:\n",
    "            return hang_chuc[chuc] + \" \" + hang_don_vi[don_vi]\n",
    "\n",
    "while(True):\n",
    "    try:\n",
    "        n = int(input(\"Nhập một số nguyên dương nhỏ hơn 100: \"))\n",
    "        if 0 <= n < 100:\n",
    "            print(f\"Số {n} đọc là: {doc_so(n)}\")\n",
    "            break\n",
    "        else:\n",
    "            print(\"Vui lòng nhập số trong khoảng từ 0 đến 99.\")\n",
    "    except ValueError:\n",
    "        print(\"Đầu vào không hợp lệ. Vui lòng nhập một số nguyên dương.\")\n"
   ]
  },
  {
   "cell_type": "code",
   "execution_count": 47,
   "id": "0e6e6e36",
   "metadata": {},
   "outputs": [
    {
     "name": "stdout",
     "output_type": "stream",
     "text": [
      "Chương trình Tìm ngày kế sau ngày vừa nhập\n",
      "Ngày kế sau ngày 31/12/2012 là 1/1/2013\n"
     ]
    }
   ],
   "source": [
    "print('Chương trình Tìm ngày kế sau ngày vừa nhập')\n",
    "while True:\n",
    "    try:\n",
    "        ngay = int(input(\"Nhập ngày: \"))\n",
    "        thang = int(input(\"Nhập tháng: \"))\n",
    "        nam = int(input(\"Nhập năm: \"))\n",
    "        break\n",
    "    except ValueError:\n",
    "        print(\"Dữ liệu không hợp lệ. Vui lòng nhập lại!\")\n",
    "def ngay_ke_sau(ngay, thang, nam):\n",
    "    if thang in [1, 3, 5, 7, 8, 10]:\n",
    "        if ngay < 31:\n",
    "            ngay += 1\n",
    "        else:\n",
    "            ngay = 1\n",
    "            thang += 1\n",
    "    elif thang in [4, 6, 9, 11]:\n",
    "        if ngay < 30:\n",
    "            ngay += 1\n",
    "        else:\n",
    "            ngay = 1\n",
    "            thang += 1\n",
    "    elif thang == 2:\n",
    "        if (nam % 4 == 0 and nam % 100 != 0) or (nam % 400 == 0):\n",
    "            if ngay < 29:\n",
    "                ngay += 1\n",
    "            else:\n",
    "                ngay = 1\n",
    "                thang += 1\n",
    "        else:\n",
    "            if ngay < 28:\n",
    "                ngay += 1\n",
    "            else:\n",
    "                ngay = 1\n",
    "                thang += 1\n",
    "    elif thang == 12:\n",
    "        if ngay < 31:\n",
    "            ngay += 1\n",
    "        else:\n",
    "            ngay = 1\n",
    "            thang = 1\n",
    "            nam += 1\n",
    "    return ngay, thang, nam\n",
    "ngay_moi, thang_moi, nam_moi = ngay_ke_sau(ngay, thang, nam)\n",
    "print(f\"Ngày kế sau ngày {ngay}/{thang}/{nam} là {ngay_moi}/{thang_moi}/{nam_moi}\")"
   ]
  },
  {
   "cell_type": "code",
   "execution_count": 49,
   "id": "d8c9a6db",
   "metadata": {},
   "outputs": [
    {
     "name": "stdout",
     "output_type": "stream",
     "text": [
      "Câu 8: Chương trình xuất kết quả theo phép toán đã nhập\n",
      "Phép toán không hợp lệ.\n"
     ]
    }
   ],
   "source": [
    "print('Câu 8: Chương trình xuất kết quả theo phép toán đã nhập')\n",
    "phep_toan = input(\"Nhập phép toán (+, -, *, /): \")\n",
    "try:\n",
    "    so1 = float(input(\"Nhập số thứ nhất: \"))\n",
    "    so2 = float(input(\"Nhập số thứ hai: \"))\n",
    "    if phep_toan == '+':\n",
    "        ket_qua = so1 + so2\n",
    "    elif phep_toan == '-':\n",
    "        ket_qua = so1 - so2\n",
    "    elif phep_toan == '*':\n",
    "        ket_qua = so1 * so2\n",
    "    elif phep_toan == '/':\n",
    "        if so2 != 0:\n",
    "            ket_qua = so1 / so2\n",
    "        else:\n",
    "            print(\"Lỗi: Không thể chia cho 0.\")\n",
    "            ket_qua = None\n",
    "    else:\n",
    "        print(\"Phép toán không hợp lệ.\")\n",
    "        ket_qua = None\n",
    "\n",
    "    if ket_qua is not None:\n",
    "        print(f\"Kết quả của {so1} {phep_toan} {so2} = {ket_qua}\")\n",
    "except ValueError:\n",
    "    print(\"Dữ liệu không hợp lệ. Vui lòng nhập lại!\")"
   ]
  },
  {
   "cell_type": "code",
   "execution_count": 54,
   "id": "abe12ce4",
   "metadata": {},
   "outputs": [
    {
     "name": "stdout",
     "output_type": "stream",
     "text": [
      "Câu 9: Chương trình xuất ra tháng vừa nhập thuộc quý mấy trong năm\n",
      "Vui lòng nhập tháng trong khoảng từ 1 đến 12.\n",
      "Tháng 12 thuộc quý 4 trong năm.\n"
     ]
    }
   ],
   "source": [
    "print('Câu 9: Chương trình xuất ra tháng vừa nhập thuộc quý mấy trong năm')\n",
    "while(True):\n",
    "    try:\n",
    "        thang = int(input(\"Nhập tháng (1-12): \"))\n",
    "        if 1 <= thang <= 12:\n",
    "            if thang in [1, 2, 3]:\n",
    "                quy = 1\n",
    "            elif thang in [4, 5, 6]:\n",
    "                quy = 2\n",
    "            elif thang in [7, 8, 9]:\n",
    "                quy = 3\n",
    "            else:\n",
    "                quy = 4\n",
    "            print(f'Tháng {thang} thuộc quý {quy} trong năm.')\n",
    "            break\n",
    "        else:\n",
    "            print(\"Vui lòng nhập tháng trong khoảng từ 1 đến 12.\")\n",
    "    except ValueError:\n",
    "        print(\"Dữ liệu không hợp lệ. Vui lòng nhập lại!\")\n"
   ]
  },
  {
   "cell_type": "code",
   "execution_count": 55,
   "id": "d19c9ec5",
   "metadata": {},
   "outputs": [
    {
     "name": "stdout",
     "output_type": "stream",
     "text": [
      "Câu 10: Chương trình tính tổng S = x + x^2/2! + x^3/3! + ... + x^N/N!\n",
      "s(3,5)=17.4\n"
     ]
    }
   ],
   "source": [
    "print('Câu 10: Chương trình tính tổng S = x + x^2/2! + x^3/3! + ... + x^N/N!')\n",
    "x=int(input(\"Nhập x:\"))\n",
    "n=int(input(\"Nhập N:\"))\n",
    "s=0\n",
    "for i in range(1,n+1):\n",
    "    tu=x**i\n",
    "    mau=1\n",
    "    for j in range(1,i+1):\n",
    "        mau=mau*j\n",
    "    s=s+(tu/mau)\n",
    "print(\"s({0},{1})={2}\".format(x,n,s))\n"
   ]
  },
  {
   "cell_type": "code",
   "execution_count": 58,
   "id": "46f14afb",
   "metadata": {},
   "outputs": [
    {
     "name": "stdout",
     "output_type": "stream",
     "text": [
      "Câu 11: Chương trình kiểm tra số nguyên tố\n",
      "2 là số nguyên tố\n",
      "2123 không phải là số nguyên tố\n",
      "43 là số nguyên tố\n",
      "BYE!\n"
     ]
    }
   ],
   "source": [
    "print('Câu 11: Chương trình kiểm tra số nguyên tố')\n",
    "while True:\n",
    "    n=int(input(\"Nhập 1 số nguyên dương\"))\n",
    "    dem=0\n",
    "    for i in range(1,n+1):\n",
    "        if n % i ==0 :\n",
    "            dem=dem+1\n",
    "    if dem==2:\n",
    "        print(f\"{n} là số nguyên tố\")\n",
    "    else :\n",
    "        print(f\"{n} không phải là số nguyên tố\")\n",
    "    hoi= input(\"Bạn có muốn tiếp tục không (c/k)? \")\n",
    "    if hoi.lower() == 'k':\n",
    "        break\n",
    "print('BYE!')"
   ]
  },
  {
   "cell_type": "code",
   "execution_count": 59,
   "id": "8ce9dd32",
   "metadata": {},
   "outputs": [
    {
     "name": "stdout",
     "output_type": "stream",
     "text": [
      "Câu 12: Chương trình Xuất bảng cửu chương\n",
      "2* 1= 2\t3* 1= 3\t4* 1= 4\t5* 1= 5\t6* 1= 6\t7* 1= 7\t8* 1= 8\t9* 1= 9\t\n",
      "2* 2= 4\t3* 2= 6\t4* 2= 8\t5* 2=10\t6* 2=12\t7* 2=14\t8* 2=16\t9* 2=18\t\n",
      "2* 3= 6\t3* 3= 9\t4* 3=12\t5* 3=15\t6* 3=18\t7* 3=21\t8* 3=24\t9* 3=27\t\n",
      "2* 4= 8\t3* 4=12\t4* 4=16\t5* 4=20\t6* 4=24\t7* 4=28\t8* 4=32\t9* 4=36\t\n",
      "2* 5=10\t3* 5=15\t4* 5=20\t5* 5=25\t6* 5=30\t7* 5=35\t8* 5=40\t9* 5=45\t\n",
      "2* 6=12\t3* 6=18\t4* 6=24\t5* 6=30\t6* 6=36\t7* 6=42\t8* 6=48\t9* 6=54\t\n",
      "2* 7=14\t3* 7=21\t4* 7=28\t5* 7=35\t6* 7=42\t7* 7=49\t8* 7=56\t9* 7=63\t\n",
      "2* 8=16\t3* 8=24\t4* 8=32\t5* 8=40\t6* 8=48\t7* 8=56\t8* 8=64\t9* 8=72\t\n",
      "2* 9=18\t3* 9=27\t4* 9=36\t5* 9=45\t6* 9=54\t7* 9=63\t8* 9=72\t9* 9=81\t\n",
      "2*10=20\t3*10=30\t4*10=40\t5*10=50\t6*10=60\t7*10=70\t8*10=80\t9*10=90\t\n"
     ]
    }
   ],
   "source": [
    "print('Câu 12: Chương trình Xuất bảng cửu chương')\n",
    "for i in range(1,11):\n",
    "    for j in range(2,10):\n",
    "        line=\"{0}*{1:>2}={2:>2}\".format(j,i,i*j)\n",
    "        print(line,end='\\t')\n",
    "    print()\n"
   ]
  },
  {
   "cell_type": "code",
   "execution_count": 62,
   "id": "1517e522",
   "metadata": {},
   "outputs": [
    {
     "name": "stdout",
     "output_type": "stream",
     "text": [
      "Câu 13: Chương trình Cho biết bao nhiêu dấu * được in ra trên màn hình\n",
      "Kết quả: Chương trình sẽ in ra vô hạn dấu * vì biến a không được tăng giá trị trong vòng lặp while.\n"
     ]
    }
   ],
   "source": [
    "print('Câu 13: Chương trình Cho biết bao nhiêu dấu * được in ra trên màn hình')\n",
    "'''a = 0\n",
    "while a < 100:\n",
    "    print('*', end='')\n",
    "print()\n",
    "'''\n",
    "print('Kết quả: Chương trình sẽ in ra vô hạn dấu * vì biến a không được tăng giá trị trong vòng lặp while.')\n"
   ]
  },
  {
   "cell_type": "code",
   "execution_count": null,
   "id": "53211de0",
   "metadata": {},
   "outputs": [
    {
     "name": "stdout",
     "output_type": "stream",
     "text": [
      "Câu : Chương trình Cho biết bao nhiêu dấu * được in ra trên màn hình\n",
      "********************\n",
      "********************\n",
      "********************\n",
      "********************\n",
      "********************\n",
      "********************\n",
      "********************\n",
      "********************\n",
      "********************\n",
      "********************\n",
      "********************\n",
      "********************\n",
      "********************\n",
      "********************\n",
      "********************\n",
      "********************\n",
      "********************\n",
      "********************\n",
      "********************\n",
      "********************\n",
      "********************\n",
      "********************\n",
      "********************\n",
      "********************\n",
      "********************\n",
      "********************\n",
      "********************\n",
      "********************\n",
      "********************\n",
      "********************\n",
      "********************\n",
      "********************\n",
      "********************\n",
      "********************\n",
      "********************\n",
      "********************\n",
      "********************\n",
      "********************\n",
      "********************\n",
      "********************\n",
      "********************\n",
      "********************\n",
      "********************\n",
      "********************\n",
      "********************\n",
      "********************\n",
      "********************\n",
      "********************\n",
      "********************\n",
      "********************\n",
      "********************\n",
      "********************\n",
      "********************\n",
      "********************\n",
      "********************\n",
      "********************\n",
      "********************\n",
      "********************\n",
      "********************\n",
      "********************\n",
      "********************\n",
      "********************\n",
      "********************\n",
      "********************\n",
      "********************\n",
      "********************\n",
      "********************\n",
      "********************\n",
      "********************\n",
      "********************\n",
      "********************\n",
      "********************\n",
      "********************\n",
      "********************\n",
      "********************\n",
      "********************\n",
      "********************\n",
      "********************\n",
      "********************\n",
      "********************\n",
      "********************\n",
      "********************\n",
      "********************\n",
      "********************\n",
      "********************\n",
      "********************\n",
      "********************\n",
      "********************\n",
      "********************\n",
      "********************\n",
      "********************\n",
      "********************\n",
      "********************\n",
      "********************\n",
      "********************\n",
      "********************\n",
      "********************\n",
      "********************\n",
      "********************\n",
      "********************\n",
      "Chương trình này sẽ in ra 2000 dấu * xếp thành hình chữ nhật 100 dòng × 20 cột\n"
     ]
    }
   ],
   "source": [
    "print('Câu 14: Chương trình Cho biết bao nhiêu dấu * được in ra trên màn hình')\n",
    "a = 0\n",
    "while a < 100:\n",
    "    b = 0\n",
    "    while b < 40:\n",
    "        if (a + b) % 2 == 0:\n",
    "            print('*', end='')  \n",
    "        b += 1\n",
    "    print()\n",
    "    a += 1\n",
    "print('Chương trình này sẽ in ra 2000 dấu * xếp thành hình chữ nhật 100 dòng × 20 cột')\n"
   ]
  },
  {
   "cell_type": "code",
   "execution_count": 67,
   "id": "c6ba0994",
   "metadata": {},
   "outputs": [
    {
     "name": "stdout",
     "output_type": "stream",
     "text": [
      "Câu 15: Chương trình giải thích cách chạy các dòng lệnh range\n",
      "(a) range(5) → [0, 1, 2, 3, 4]\n",
      "(b) range(5, 10) → [5, 6, 7, 8, 9]\n",
      "(c) range(5, 20, 3) → [5, 8, 11, 14, 17]\n",
      "(d) range(20, 5, -1) → [20, 19, 18, 17, 16, 15, 14, 13, 12, 11, 10, 9, 8, 7, 6]\n",
      "(e) range(20, 5, -3) → [20, 17, 14, 11, 8]\n",
      "(f) range(10, 5) → []\n",
      "(g) range(0) → []\n",
      "(h) range(10, 101, 10) → [10, 20, 30, 40, 50, 60, 70, 80, 90, 100]\n",
      "(i) range(10, -1, -1) → [10, 9, 8, 7, 6, 5, 4, 3, 2, 1, 0]\n",
      "(j) range(-3, 4) → [-3, -2, -1, 0, 1, 2, 3]\n",
      "(k) range(0, 10, 1) → [0, 1, 2, 3, 4, 5, 6, 7, 8, 9]\n"
     ]
    }
   ],
   "source": [
    "print('Câu 15: Chương trình giải thích cách chạy các dòng lệnh range')\n",
    "temp = {\n",
    "    \"(a) range(5)\": range(5),\n",
    "    \"(b) range(5, 10)\": range(5, 10),\n",
    "    \"(c) range(5, 20, 3)\": range(5, 20, 3),\n",
    "    \"(d) range(20, 5, -1)\": range(20, 5, -1),\n",
    "    \"(e) range(20, 5, -3)\": range(20, 5, -3),\n",
    "    \"(f) range(10, 5)\": range(10, 5),\n",
    "    \"(g) range(0)\": range(0),\n",
    "    \"(h) range(10, 101, 10)\": range(10, 101, 10),\n",
    "    \"(i) range(10, -1, -1)\": range(10, -1, -1),\n",
    "    \"(j) range(-3, 4)\": range(-3, 4),\n",
    "    \"(k) range(0, 10, 1)\": range(0, 10, 1),\n",
    "}\n",
    "for label, r in temp.items():\n",
    "    print(f\"{label} → {list(r)}\")"
   ]
  },
  {
   "cell_type": "code",
   "execution_count": 71,
   "id": "f61d82ce",
   "metadata": {},
   "outputs": [
    {
     "name": "stdout",
     "output_type": "stream",
     "text": [
      "Câu 16: Chương trình Cho biết bao nhiêu dấu * được in ra trên màn hình\n",
      "****************\n",
      "Kết quả: Chương trình sẽ in ra 16 dấu *\n"
     ]
    }
   ],
   "source": [
    "print('Câu 16: Chương trình Cho biết bao nhiêu dấu * được in ra trên màn hình')\n",
    "for a in range(20, 100, 5):\n",
    "    print('*', end='')\n",
    "print('\\nKết quả: Chương trình sẽ in ra 16 dấu *')"
   ]
  },
  {
   "cell_type": "code",
   "execution_count": 73,
   "id": "d5def6c9",
   "metadata": {},
   "outputs": [
    {
     "name": "stdout",
     "output_type": "stream",
     "text": [
      "Câu 17: Chương trình viết lại coding dưới đây bằng cách dùng từ khóa break thay thế cho biến done\n",
      "=> Không thực hiện được do trùng từ khóa\n"
     ]
    }
   ],
   "source": [
    "print('Câu 17: Chương trình viết lại coding dưới đây bằng cách dùng từ khóa break thay thế cho biến done')\n",
    "print('=> Không thực hiện được do trùng từ khóa')"
   ]
  },
  {
   "cell_type": "code",
   "execution_count": 99,
   "id": "d31e79ed",
   "metadata": {},
   "outputs": [
    {
     "name": "stdout",
     "output_type": "stream",
     "text": [
      "Câu 18: Chương trình vẽ hình\n",
      "* * * * \n",
      "*     * \n",
      "*     * \n",
      "* * * * \n",
      "\n",
      "\n",
      "      * \n",
      "    * * \n",
      "  * * * \n",
      "* * * * \n",
      "\n",
      "\n",
      "*\n",
      "* *\n",
      "*   *\n",
      "*     *\n",
      "*     *\n",
      "  *   *\n",
      "    * *\n",
      "      *\n"
     ]
    }
   ],
   "source": [
    "print('Câu 18: Chương trình vẽ hình')\n",
    "n = int(input(\"Nhập chiều cao n: \"))\n",
    "m = n \n",
    "for i in range(n):\n",
    "    for j in range(m):\n",
    "        if i == 0 or i == n-1 or j == 0 or j == m-1:\n",
    "            print(\"*\", end=\" \")\n",
    "        else:\n",
    "            print(\" \", end=\" \")\n",
    "    print()\n",
    "print('\\n')\n",
    "for i in range(1, n+1):\n",
    "    print(\"  \" * (n - i) + \"* \" * i)\n",
    "\n",
    "print('\\n')\n",
    "\n",
    "for i in range(n):\n",
    "    for j in range(i+1):\n",
    "        if j == 0 or j == i:\n",
    "            print(\"*\", end=\"\")\n",
    "        else:\n",
    "            print(\" \", end=\"\")\n",
    "        if j < i:\n",
    "            print(\" \", end=\"\")\n",
    "    print()\n",
    "\n",
    "# Tam giác ngược dưới lệch phải\n",
    "for i in range(n, 0, -1):\n",
    "    # in khoảng trắng để lệch phải\n",
    "    for k in range(n*2 - 2*i):\n",
    "        print(\" \", end=\"\")\n",
    "    # in các dấu *\n",
    "    for j in range(i):\n",
    "        if j == 0 or j == i - 1:\n",
    "            print(\"*\", end=\"\")\n",
    "        else:\n",
    "            print(\" \", end=\"\")\n",
    "        if j < i - 1:\n",
    "            print(\" \", end=\"\")\n",
    "    print()"
   ]
  }
 ],
 "metadata": {
  "kernelspec": {
   "display_name": "Python 3",
   "language": "python",
   "name": "python3"
  },
  "language_info": {
   "codemirror_mode": {
    "name": "ipython",
    "version": 3
   },
   "file_extension": ".py",
   "mimetype": "text/x-python",
   "name": "python",
   "nbconvert_exporter": "python",
   "pygments_lexer": "ipython3",
   "version": "3.13.7"
  }
 },
 "nbformat": 4,
 "nbformat_minor": 5
}
