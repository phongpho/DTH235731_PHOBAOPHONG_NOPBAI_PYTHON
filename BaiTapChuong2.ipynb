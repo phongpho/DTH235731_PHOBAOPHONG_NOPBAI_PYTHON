{
 "cells": [
  {
   "cell_type": "code",
   "execution_count": 2,
   "id": "361d98b1",
   "metadata": {},
   "outputs": [
    {
     "name": "stdout",
     "output_type": "stream",
     "text": [
      "Câu 1: Chương trình tính diện tích hình tròn\n",
      "Chu vi = 18.84955592153876\n",
      "Diện tích= 9.0\n"
     ]
    }
   ],
   "source": [
    "print('Câu 1: Chương trình tính diện tích hình tròn')\n",
    "import math\n",
    "try:\n",
    "    r=float(input(\"Mời bạn nhập bán kính hình tròn:\"))\n",
    "    cv=2*math.pi*r\n",
    "    dt=r**2\n",
    "    print(\"Chu vi =\",cv)\n",
    "    print(\"Diện tích=\",dt)\n",
    "except:\n",
    "    print(\"Lỗi rồi!\")\n"
   ]
  },
  {
   "cell_type": "code",
   "execution_count": 2,
   "id": "db72b2db",
   "metadata": {},
   "outputs": [
    {
     "name": "stdout",
     "output_type": "stream",
     "text": [
      "Câu 2: Chương trình tính giờ phút giây\n",
      "2 : 46 : 40\n"
     ]
    }
   ],
   "source": [
    "print('Câu 2: Chương trình tính giờ phút giây')\n",
    "t=int(input(\"Nhập số giây:\"))\n",
    "hour=(t//3600)%24\n",
    "minute=(t%3600)//60\n",
    "second=(t%3600)%60\n",
    "print(hour,\":\",minute,\":\",second)"
   ]
  },
  {
   "cell_type": "code",
   "execution_count": 5,
   "id": "18a4c8cd",
   "metadata": {},
   "outputs": [
    {
     "name": "stdout",
     "output_type": "stream",
     "text": [
      "Câu 3: Chương trình tính điểm trung bình\n",
      "Chương trình tính điểm trung bình\n",
      "Điểm toán= 9\n",
      "Điểm lý= 7\n",
      "Điểm hóa= 5\n",
      "Điểm trung bình= 7.0\n",
      "Điểm làm tròn= 7.0\n"
     ]
    }
   ],
   "source": [
    "print('Câu 3: Chương trình tính điểm trung bình')\n",
    "print(\"Chương trình tính điểm trung bình\")\n",
    "toan,ly,hoa=eval(input(\"Nhập điểm toán,lý,hóa:\"))\n",
    "print(\"Điểm toán=\",toan)\n",
    "print(\"Điểm lý=\",ly)\n",
    "print(\"Điểm hóa=\",hoa)\n",
    "dtb=(toan+ly+hoa)/3\n",
    "print(\"Điểm trung bình=\",dtb)\n",
    "print(\"Điểm làm tròn=\",round(dtb,2))\n"
   ]
  },
  {
   "cell_type": "code",
   "execution_count": 8,
   "id": "e7d95230",
   "metadata": {},
   "outputs": [
    {
     "name": "stdout",
     "output_type": "stream",
     "text": [
      "Câu 4: Python hỗ trợ những kiểu dữ liệu cơ bản nào?\n",
      "Trả lời: Kiểu dữ liệu cơ bản trong Python gồm: int, float, complex, str, bool, list, tuple, set, dict\n"
     ]
    }
   ],
   "source": [
    "print('Câu 4: Python hỗ trợ những kiểu dữ liệu cơ bản nào?')\n",
    "print('Trả lời: Kiểu dữ liệu cơ bản trong Python gồm: int, float, complex, str, bool, list, tuple, set, dict')\n"
   ]
  },
  {
   "cell_type": "code",
   "execution_count": 9,
   "id": "bfae5775",
   "metadata": {},
   "outputs": [
    {
     "name": "stdout",
     "output_type": "stream",
     "text": [
      "Câu 5: Trình bày các loại ghi chú trong Python?\n",
      "Trả lời: Trong Python có 2 loại ghi chú: ghi chú một dòng (dùng #) và ghi chú nhiều dòng (dùng ''' hoặc \"\"\" )\n"
     ]
    }
   ],
   "source": [
    "print(\"Câu 5: Trình bày các loại ghi chú trong Python?\")\n",
    "print(\"Trả lời: Trong Python có 2 loại ghi chú: ghi chú một dòng (dùng #) và ghi chú nhiều dòng (dùng ''' hoặc \\\"\\\"\\\" )\")\n"
   ]
  },
  {
   "cell_type": "code",
   "execution_count": 10,
   "id": "2e537a0c",
   "metadata": {},
   "outputs": [
    {
     "name": "stdout",
     "output_type": "stream",
     "text": [
      "Câu 6: Trình bày ý nghĩa toán tử /, //, %, **, and, or, is\n",
      "Trả lời:\n",
      "/: Phép chia thông thường, kết quả là số thực\n",
      "//: Phép chia lấy phần nguyên, kết quả là số nguyên nếu cả hai toán hạng là số nguyên\n",
      "%: Phép chia lấy phần dư\n",
      "**: Phép lũy thừa\n",
      "and: Toán tử logic \"và\", trả về True nếu cả hai biểu thức đều đúng\n",
      "or: Toán tử logic \"hoặc\", trả về True nếu ít nhất một biểu thức đúng\n",
      "is: Toán tử so sánh, kiểm tra hai biến có tham chiếu đến cùng một đối tượng trong bộ nhớ hay không\n"
     ]
    }
   ],
   "source": [
    "print('Câu 6: Trình bày ý nghĩa toán tử /, //, %, **, and, or, is')\n",
    "print('Trả lời:')\n",
    "print('/: Phép chia thông thường, kết quả là số thực')\n",
    "print('//: Phép chia lấy phần nguyên, kết quả là số nguyên nếu cả hai toán hạng là số nguyên')\n",
    "print('%: Phép chia lấy phần dư')\n",
    "print('**: Phép lũy thừa')\n",
    "print('and: Toán tử logic \"và\", trả về True nếu cả hai biểu thức đều đúng')\n",
    "print('or: Toán tử logic \"hoặc\", trả về True nếu ít nhất một biểu thức đúng')\n",
    "print('is: Toán tử so sánh, kiểm tra hai biến có tham chiếu đến cùng một đối tượng trong bộ nhớ hay không')"
   ]
  },
  {
   "cell_type": "code",
   "execution_count": 11,
   "id": "be235268",
   "metadata": {},
   "outputs": [
    {
     "name": "stdout",
     "output_type": "stream",
     "text": [
      "Câu 7: Trình bày một số cách nhập dữ liệu từ bàn phím.\n",
      "Trả lời: Một số cách nhập dữ liệu từ bàn phím trong Python bao gồm:\n",
      "1. Sử dụng hàm input(): Hàm này cho phép người dùng nhập dữ liệu dưới dạng chuỗi.\n",
      "2. Sử dụng hàm eval() kết hợp với input(): Cách này cho phép nhập nhiều giá trị cùng lúc và chuyển đổi chúng sang các kiểu dữ liệu khác nhau.\n",
      "3. Sử dụng các thư viện như argparse hoặc click để xây dựng các ứng dụng dòng lệnh phức tạp hơn với nhiều tùy chọn và tham số.\n"
     ]
    }
   ],
   "source": [
    "print('Câu 7: Trình bày một số cách nhập dữ liệu từ bàn phím.')\n",
    "print('Trả lời: Một số cách nhập dữ liệu từ bàn phím trong Python bao gồm:')\n",
    "print('1. Sử dụng hàm input(): Hàm này cho phép người dùng nhập dữ liệu dưới dạng chuỗi.')\n",
    "print('2. Sử dụng hàm eval() kết hợp với input(): Cách này cho phép nhập nhiều giá trị cùng lúc và chuyển đổi chúng sang các kiểu dữ liệu khác nhau.')\n",
    "print('3. Sử dụng các thư viện như argparse hoặc click để xây dựng các ứng dụng dòng lệnh phức tạp hơn với nhiều tùy chọn và tham số.')"
   ]
  },
  {
   "cell_type": "code",
   "execution_count": 12,
   "id": "0e3d688c",
   "metadata": {},
   "outputs": [
    {
     "name": "stdout",
     "output_type": "stream",
     "text": [
      "Câu 8: Trình bày các loại lỗi khi lập trình và cách bắt lỗi trong Python\n",
      "Trả lời: Các loại lỗi khi lập trình bao gồm:\n",
      "1. Lỗi cú pháp (Syntax Error): Xảy ra khi mã nguồn không tuân theo quy tắc cú pháp của ngôn ngữ lập trình.\n",
      "2. Lỗi thời gian chạy (Runtime Error): Xảy ra trong quá trình chương trình đang chạy, ví dụ như chia cho 0, truy cập vào chỉ mục ngoài phạm vi của danh sách, v.v.\n",
      "3. Lỗi logic (Logical Error): Xảy ra khi chương trình chạy mà không tạo ra kết quả đúng như mong đợi do lỗi trong logic của chương trình.\n",
      "Cách bắt lỗi trong Python:\n",
      "Sử dụng cấu trúc try-except để bắt và xử lý các ngoại lệ (exceptions) trong quá trình chạy chương trình.\n"
     ]
    }
   ],
   "source": [
    "print('Câu 8: Trình bày các loại lỗi khi lập trình và cách bắt lỗi trong Python')\n",
    "print('Trả lời: Các loại lỗi khi lập trình bao gồm:')\n",
    "print('1. Lỗi cú pháp (Syntax Error): Xảy ra khi mã nguồn không tuân theo quy tắc cú pháp của ngôn ngữ lập trình.')\n",
    "print('2. Lỗi thời gian chạy (Runtime Error): Xảy ra trong quá trình chương trình đang chạy, ví dụ như chia cho 0, truy cập vào chỉ mục ngoài phạm vi của danh sách, v.v.')\n",
    "print('3. Lỗi logic (Logical Error): Xảy ra khi chương trình chạy mà không tạo ra kết quả đúng như mong đợi do lỗi trong logic của chương trình.')\n",
    "print('Cách bắt lỗi trong Python:')\n",
    "print('Sử dụng cấu trúc try-except để bắt và xử lý các ngoại lệ (exceptions) trong quá trình chạy chương trình.')\n"
   ]
  },
  {
   "cell_type": "code",
   "execution_count": 15,
   "id": "46f775be",
   "metadata": {},
   "outputs": [
    {
     "name": "stdout",
     "output_type": "stream",
     "text": [
      "Câu 9: Giải thích kết quả tính toán của các biểu thức\n",
      "(a) i1 + (i2 * i3) = -13\n",
      "(b) i1 * (i2 + i3) = 4\n",
      "(c) i1 / (i2 + i3) = 1.0\n",
      "(d) i1 // (i2 + i3) = 1\n",
      "(e) i1 / i2 + i3 = -2.6\n",
      "(f) i1 // i2 + i3 = -3\n",
      "(g) 3 + 4 + 5 / 3 = 8.666666666666666\n",
      "(h) 3 + 4 + 5 // 3 = 8\n",
      "(i) (3 + 4 + 5) / 3 = 4.0\n",
      "(j) (3 + 4 + 5) // 3 = 4\n",
      "(k) d1 + (d2 * d3) = -0.5\n",
      "(l) d1 + d2 * d3 = -0.5\n",
      "(m) d1 / d2 - d3 = 0.9\n",
      "(n) d1 / (d2 - d3) = 0.36363636363636365\n",
      "(o) d1 + d2 + d3 / 3 = 6.833333333333333\n",
      "(p) (d1 + d2 + d3) / 3 = 2.1666666666666665\n",
      "(q) d1 + d2 + (d3 / 3) = 6.833333333333333\n",
      "(r) 3 * (d1 + d2) * (d1 - d3) = 52.5\n"
     ]
    }
   ],
   "source": [
    "print('Câu 9: Giải thích kết quả tính toán của các biểu thức')\n",
    "i1 = 2\n",
    "i2 = 5\n",
    "i3 = -3\n",
    "d1 = 2.0\n",
    "d2 = 5.0\n",
    "d3 = -0.5\n",
    "print('(a) i1 + (i2 * i3) =', i1 + (i2 * i3))\n",
    "print('(b) i1 * (i2 + i3) =', i1 * (i2 + i3))\n",
    "print('(c) i1 / (i2 + i3) =', i1 / (i2 + i3))\n",
    "print('(d) i1 // (i2 + i3) =', i1 // (i2 + i3))\n",
    "print('(e) i1 / i2 + i3 =', i1 / i2 + i3)\n",
    "print('(f) i1 // i2 + i3 =', i1 // i2 + i3)\n",
    "print('(g) 3 + 4 + 5 / 3 =', 3 + 4 + 5 / 3)\n",
    "print('(h) 3 + 4 + 5 // 3 =', 3 + 4 + 5 // 3)\n",
    "print('(i) (3 + 4 + 5) / 3 =', (3 + 4 + 5) / 3)\n",
    "print('(j) (3 + 4 + 5) // 3 =', (3 + 4 + 5) // 3)\n",
    "print('(k) d1 + (d2 * d3) =', d1 + (d2 * d3))\n",
    "print('(l) d1 + d2 * d3 =', d1 + d2 * d3)\n",
    "print('(m) d1 / d2 - d3 =', d1 / d2 - d3)\n",
    "print('(n) d1 / (d2 - d3) =', d1 / (d2 - d3))\n",
    "print('(o) d1 + d2 + d3 / 3 =', d1 + d2 + d3 / 3)\n",
    "print('(p) (d1 + d2 + d3) / 3 =', (d1 + d2 + d3) / 3)\n",
    "print('(q) d1 + d2 + (d3 / 3) =', d1 + d2 + (d3 / 3))\n",
    "print('(r) 3 * (d1 + d2) * (d1 - d3) =', 3 * (d1 + d2) * (d1 - d3))"
   ]
  },
  {
   "cell_type": "code",
   "execution_count": 14,
   "id": "825e5558",
   "metadata": {},
   "outputs": [
    {
     "name": "stdout",
     "output_type": "stream",
     "text": [
      "Câu 10: Rút gọn các lệch\n",
      "Lệnh ban đầu:\n",
      "x = x + 1\n",
      "x = x / 2\n",
      "x = x - 1\n",
      "x = x + y\n",
      "x = x - (y + 7)\n",
      "x = 2 * x\n",
      "number_of_closed_cases = number_of_closed_cases + 2 * ncc\n",
      "\n",
      "Lệnh rút gọn:\n",
      "x += 1\n",
      "x /= 2\n",
      "x -= 1\n",
      "x += y\n",
      "x -= (y + 7)\n",
      "x *= 2\n",
      "number_of_closed_cases += 2 * ncc\n"
     ]
    }
   ],
   "source": [
    "print('Câu 10: Rút gọn các lệch')\n",
    "print('''Lệnh ban đầu:\n",
    "x = x + 1\n",
    "x = x / 2\n",
    "x = x - 1\n",
    "x = x + y\n",
    "x = x - (y + 7)\n",
    "x = 2 * x\n",
    "number_of_closed_cases = number_of_closed_cases + 2 * ncc\n",
    "\n",
    "Lệnh rút gọn:\n",
    "x += 1\n",
    "x /= 2\n",
    "x -= 1\n",
    "x += y\n",
    "x -= (y + 7)\n",
    "x *= 2\n",
    "number_of_closed_cases += 2 * ncc''')"
   ]
  }
 ],
 "metadata": {
  "kernelspec": {
   "display_name": "Python 3",
   "language": "python",
   "name": "python3"
  },
  "language_info": {
   "codemirror_mode": {
    "name": "ipython",
    "version": 3
   },
   "file_extension": ".py",
   "mimetype": "text/x-python",
   "name": "python",
   "nbconvert_exporter": "python",
   "pygments_lexer": "ipython3",
   "version": "3.13.7"
  }
 },
 "nbformat": 4,
 "nbformat_minor": 5
}
