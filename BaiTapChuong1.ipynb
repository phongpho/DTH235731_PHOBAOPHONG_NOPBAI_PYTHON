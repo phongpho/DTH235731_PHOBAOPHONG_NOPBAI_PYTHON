{
 "cells": [
  {
   "cell_type": "code",
   "execution_count": 10,
   "id": "initial_id",
   "metadata": {
    "ExecuteTime": {
     "end_time": "2025-08-26T13:38:08.923207Z",
     "start_time": "2025-08-26T13:38:08.918459Z"
    },
    "collapsed": true
   },
   "outputs": [
    {
     "name": "stdout",
     "output_type": "stream",
     "text": [
      "Hello World!\n"
     ]
    }
   ],
   "source": [
    "print('Hello World!')"
   ]
  },
  {
   "cell_type": "code",
   "execution_count": 2,
   "id": "12dfddc1ad423792",
   "metadata": {
    "ExecuteTime": {
     "end_time": "2025-08-26T13:38:08.953588Z",
     "start_time": "2025-08-26T13:38:08.949415Z"
    }
   },
   "outputs": [
    {
     "name": "stdout",
     "output_type": "stream",
     "text": [
      "Albert Einstein đã từng nói: một người không bao giờ mắc sai lầm không bao giờ thử bất kỳ điều gì mới.\n"
     ]
    }
   ],
   "source": [
    "print('Albert Einstein đã từng nói: một người không bao giờ mắc sai lầm không bao giờ thử bất kỳ điều gì mới.')"
   ]
  },
  {
   "cell_type": "code",
   "execution_count": 3,
   "id": "f6c56c44f977c260",
   "metadata": {
    "ExecuteTime": {
     "end_time": "2025-08-26T13:38:08.982407Z",
     "start_time": "2025-08-26T13:38:08.978175Z"
    }
   },
   "outputs": [
    {
     "name": "stdout",
     "output_type": "stream",
     "text": [
      "Five is greater than two!\n"
     ]
    }
   ],
   "source": [
    "if 5 > 2:\n",
    "    print('Five is greater than two!')"
   ]
  },
  {
   "cell_type": "code",
   "execution_count": 4,
   "id": "b97756c29c39aae7",
   "metadata": {
    "ExecuteTime": {
     "end_time": "2025-08-26T13:38:09.017473Z",
     "start_time": "2025-08-26T13:38:09.012417Z"
    }
   },
   "outputs": [
    {
     "name": "stdout",
     "output_type": "stream",
     "text": [
      "6\n",
      "Hello Python!\n"
     ]
    }
   ],
   "source": [
    "total = 1 + \\\n",
    "2 + \\\n",
    "3\n",
    "print(total); print('Hello Python!')"
   ]
  },
  {
   "cell_type": "code",
   "execution_count": 5,
   "id": "d5fd99ab026ffda3",
   "metadata": {
    "ExecuteTime": {
     "end_time": "2025-08-26T13:38:09.032075Z",
     "start_time": "2025-08-26T13:38:09.027090Z"
    }
   },
   "outputs": [
    {
     "name": "stdout",
     "output_type": "stream",
     "text": [
      "True\n"
     ]
    }
   ],
   "source": [
    "if True:\n",
    "    print('True')\n",
    "else:\n",
    "    print('False')"
   ]
  },
  {
   "cell_type": "code",
   "execution_count": 6,
   "id": "8bce4699608bcf50",
   "metadata": {
    "ExecuteTime": {
     "end_time": "2025-08-26T13:38:09.049141Z",
     "start_time": "2025-08-26T13:38:09.045891Z"
    }
   },
   "outputs": [
    {
     "name": "stdout",
     "output_type": "stream",
     "text": [
      "Hello, World!\n"
     ]
    }
   ],
   "source": [
    "#this is a comment\n",
    "print('Hello, World!')"
   ]
  },
  {
   "cell_type": "code",
   "execution_count": 7,
   "id": "c9fab038284610a5",
   "metadata": {
    "ExecuteTime": {
     "end_time": "2025-08-26T13:38:09.065342Z",
     "start_time": "2025-08-26T13:38:09.061723Z"
    }
   },
   "outputs": [],
   "source": [
    "import math\n",
    "import os"
   ]
  },
  {
   "cell_type": "code",
   "execution_count": 8,
   "id": "ed78aec68a0d800",
   "metadata": {
    "ExecuteTime": {
     "end_time": "2025-08-26T13:38:09.100889Z",
     "start_time": "2025-08-26T13:38:09.097492Z"
    }
   },
   "outputs": [],
   "source": [
    "def add(a, b):\n",
    "    result =  a + b\n",
    "    return result"
   ]
  },
  {
   "cell_type": "code",
   "execution_count": 6,
   "id": "4b87e76e64dba424",
   "metadata": {
    "ExecuteTime": {
     "end_time": "2025-08-26T13:38:09.118892Z",
     "start_time": "2025-08-26T13:38:09.113299Z"
    }
   },
   "outputs": [
    {
     "name": "stdout",
     "output_type": "stream",
     "text": [
      "what is the meaning of Life, the Universe, and Everything?\n",
      "What is your quest?\n",
      "42\n",
      "To seek the holy grail.\n"
     ]
    }
   ],
   "source": [
    "import module1\n",
    "import module2\n",
    "\n",
    "print(module1.question)\n",
    "print(module2.question)\n",
    "print(module1.answer)\n",
    "print(module2.answer)"
   ]
  }
 ],
 "metadata": {
  "kernelspec": {
   "display_name": "Python 3",
   "language": "python",
   "name": "python3"
  },
  "language_info": {
   "codemirror_mode": {
    "name": "ipython",
    "version": 3
   },
   "file_extension": ".py",
   "mimetype": "text/x-python",
   "name": "python",
   "nbconvert_exporter": "python",
   "pygments_lexer": "ipython3",
   "version": "3.13.7"
  }
 },
 "nbformat": 4,
 "nbformat_minor": 5
}
