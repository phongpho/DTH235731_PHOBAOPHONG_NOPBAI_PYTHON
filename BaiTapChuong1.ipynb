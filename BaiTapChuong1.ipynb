{
 "cells": [
  {
   "cell_type": "code",
   "id": "initial_id",
   "metadata": {
    "collapsed": true,
    "ExecuteTime": {
     "end_time": "2025-08-26T13:38:08.923207Z",
     "start_time": "2025-08-26T13:38:08.918459Z"
    }
   },
   "source": "print('Hello World!')",
   "outputs": [
    {
     "name": "stdout",
     "output_type": "stream",
     "text": [
      "Hello World!\n"
     ]
    }
   ],
   "execution_count": 17
  },
  {
   "metadata": {
    "ExecuteTime": {
     "end_time": "2025-08-26T13:38:08.953588Z",
     "start_time": "2025-08-26T13:38:08.949415Z"
    }
   },
   "cell_type": "code",
   "source": "print('Albert Einstein đã từng nói: một người không bao giờ mắc sai lầm không bao giờ thử bất kỳ điều gì mới.')",
   "id": "12dfddc1ad423792",
   "outputs": [
    {
     "name": "stdout",
     "output_type": "stream",
     "text": [
      "Albert Einstein đã từng nói: một người không bao giờ mắc sai lầm không bao giờ thử bất kỳ điều gì mới.\n"
     ]
    }
   ],
   "execution_count": 18
  },
  {
   "metadata": {
    "ExecuteTime": {
     "end_time": "2025-08-26T13:38:08.982407Z",
     "start_time": "2025-08-26T13:38:08.978175Z"
    }
   },
   "cell_type": "code",
   "source": [
    "if 5 > 2:\n",
    "    print('Five is greater than two!')"
   ],
   "id": "f6c56c44f977c260",
   "outputs": [
    {
     "name": "stdout",
     "output_type": "stream",
     "text": [
      "Five is greater than two!\n"
     ]
    }
   ],
   "execution_count": 19
  },
  {
   "metadata": {
    "ExecuteTime": {
     "end_time": "2025-08-26T13:38:09.017473Z",
     "start_time": "2025-08-26T13:38:09.012417Z"
    }
   },
   "cell_type": "code",
   "source": [
    "total = 1 + \\\n",
    "2 + \\\n",
    "3\n",
    "print(total); print('Hello Python!')"
   ],
   "id": "b97756c29c39aae7",
   "outputs": [
    {
     "name": "stdout",
     "output_type": "stream",
     "text": [
      "6\n",
      "Hello Python!\n"
     ]
    }
   ],
   "execution_count": 20
  },
  {
   "metadata": {
    "ExecuteTime": {
     "end_time": "2025-08-26T13:38:09.032075Z",
     "start_time": "2025-08-26T13:38:09.027090Z"
    }
   },
   "cell_type": "code",
   "source": [
    "if True:\n",
    "    print('True')\n",
    "else:\n",
    "    print('False')"
   ],
   "id": "d5fd99ab026ffda3",
   "outputs": [
    {
     "name": "stdout",
     "output_type": "stream",
     "text": [
      "True\n"
     ]
    }
   ],
   "execution_count": 21
  },
  {
   "metadata": {
    "ExecuteTime": {
     "end_time": "2025-08-26T13:38:09.049141Z",
     "start_time": "2025-08-26T13:38:09.045891Z"
    }
   },
   "cell_type": "code",
   "source": [
    "#this is a comment\n",
    "print('Hello, World!')"
   ],
   "id": "8bce4699608bcf50",
   "outputs": [
    {
     "name": "stdout",
     "output_type": "stream",
     "text": [
      "Hello, World!\n"
     ]
    }
   ],
   "execution_count": 22
  },
  {
   "metadata": {
    "ExecuteTime": {
     "end_time": "2025-08-26T13:38:09.065342Z",
     "start_time": "2025-08-26T13:38:09.061723Z"
    }
   },
   "cell_type": "code",
   "source": [
    "import math\n",
    "import os"
   ],
   "id": "c9fab038284610a5",
   "outputs": [],
   "execution_count": 23
  },
  {
   "metadata": {
    "ExecuteTime": {
     "end_time": "2025-08-26T13:38:09.100889Z",
     "start_time": "2025-08-26T13:38:09.097492Z"
    }
   },
   "cell_type": "code",
   "source": [
    "def add(a, b):\n",
    "    result =  a + b\n",
    "    return result"
   ],
   "id": "ed78aec68a0d800",
   "outputs": [],
   "execution_count": 24
  },
  {
   "metadata": {
    "ExecuteTime": {
     "end_time": "2025-08-26T13:38:09.118892Z",
     "start_time": "2025-08-26T13:38:09.113299Z"
    }
   },
   "cell_type": "code",
   "source": [
    "#module1.py\n",
    "question = 'what is the meaning of Life, the Universe, and Everything?'\n",
    "answer =  42\n",
    "\n",
    "#module2.py\n",
    "question = 'What is your quest?'\n",
    "answer = 'To seek the holy grail.'\n",
    "\n",
    "import module1\n",
    "import module2\n",
    "print(module1.question)\n",
    "print(module2.question)\n",
    "print(module1.answer)\n",
    "print(module2.answer)"
   ],
   "id": "4b87e76e64dba424",
   "outputs": [
    {
     "name": "stdout",
     "output_type": "stream",
     "text": [
      "what is the meaning of Life, the Universe, and Everything?\n",
      "What is your quest?\n",
      "42\n",
      "To seek the holy grail.\n"
     ]
    }
   ],
   "execution_count": 25
  }
 ],
 "metadata": {
  "kernelspec": {
   "display_name": "Python 3",
   "language": "python",
   "name": "python3"
  },
  "language_info": {
   "codemirror_mode": {
    "name": "ipython",
    "version": 2
   },
   "file_extension": ".py",
   "mimetype": "text/x-python",
   "name": "python",
   "nbconvert_exporter": "python",
   "pygments_lexer": "ipython2",
   "version": "2.7.6"
  }
 },
 "nbformat": 4,
 "nbformat_minor": 5
}
