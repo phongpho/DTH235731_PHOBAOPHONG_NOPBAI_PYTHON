{
 "cells": [
  {
   "cell_type": "code",
   "execution_count": 2,
   "id": "63de7536",
   "metadata": {},
   "outputs": [
    {
     "name": "stdout",
     "output_type": "stream",
     "text": [
      "Chương trình kiểm tra năm nhuần\n",
      "Năm 2015 không phải là năm nhuần\n"
     ]
    }
   ],
   "source": [
    "print('Chương trình kiểm tra năm nhuần')\n",
    "year = int(input('Mời nhập năm cần kiểm tra: '))\n",
    "if(year % 4 == 0 and year % 100 != 0) or (year % 400 == 0):\n",
    "    print(f'Năm {year} là năm nhuần')\n",
    "else:\n",
    "    print(f'Năm {year} không phải là năm nhuần')\n"
   ]
  }
 ],
 "metadata": {
  "kernelspec": {
   "display_name": "Python 3",
   "language": "python",
   "name": "python3"
  },
  "language_info": {
   "codemirror_mode": {
    "name": "ipython",
    "version": 3
   },
   "file_extension": ".py",
   "mimetype": "text/x-python",
   "name": "python",
   "nbconvert_exporter": "python",
   "pygments_lexer": "ipython3",
   "version": "3.13.7"
  }
 },
 "nbformat": 4,
 "nbformat_minor": 5
}
