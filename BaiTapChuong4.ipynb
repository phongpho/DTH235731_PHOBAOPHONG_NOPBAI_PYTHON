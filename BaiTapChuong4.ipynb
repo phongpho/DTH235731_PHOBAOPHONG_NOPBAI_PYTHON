{
 "cells": [
  {
   "cell_type": "code",
   "execution_count": 1,
   "id": "0242d1d5",
   "metadata": {},
   "outputs": [
    {
     "name": "stdout",
     "output_type": "stream",
     "text": [
      "Câu 1: Viết hàm để Tính diện tích tam giác\n",
      "Chương trình tính diện tích Tam Giác\n",
      "Diện tích = 6.0\n"
     ]
    }
   ],
   "source": [
    "print('Câu 1: Viết hàm để Tính diện tích tam giác')\n",
    "from math import sqrt \n",
    " \n",
    "print(\"Chương trình tính diện tích Tam Giác\") \n",
    "a=float(input(\"Nhập cạnh a>0:\")) \n",
    "b=float(input(\"Nhập cạnh b>0:\")) \n",
    "c=float(input(\"Nhập cạnh c>0:\")) \n",
    "if (a<=0 or b <=0 or c <=0) or (a+b)<=c or (a+c)<=b or b+c<=a: \n",
    "    print(\"Tam giác không hợp lệ\") \n",
    "else: \n",
    "    cv=a+b+c \n",
    "    p=cv/2 \n",
    "    dt=sqrt(p*(p-a)*(p-b)*(p-c)) \n",
    "    print(\"Diện tích =\",dt) "
   ]
  },
  {
   "cell_type": "code",
   "execution_count": 3,
   "id": "e15dab51",
   "metadata": {},
   "outputs": [
    {
     "name": "stdout",
     "output_type": "stream",
     "text": [
      "Câu 2: Viết Hàm để chơi Game Đoán Số\n",
      "Bạn đoán lần thứ  1\n",
      "Bạn đoán sai, số máy < số bạn\n",
      "Bạn đoán lần thứ  2\n",
      "Bạn đoán sai, số máy > số bạn\n",
      "Bạn đoán lần thứ  3\n",
      "Bạn đoán sai, số máy < số bạn\n",
      "Bạn đoán lần thứ  4\n",
      "Chúc mừng bạn đoán đúng, số máy là= 29\n",
      "Cám ơn bạn đã chơi Game!\n"
     ]
    }
   ],
   "source": [
    "print('Câu 2: Viết Hàm để chơi Game Đoán Số')\n",
    "from random import randrange \n",
    "while True: \n",
    "    somay=randrange(1,101) \n",
    "    solandoan=0 \n",
    "    win=False \n",
    "    while solandoan<7: \n",
    "        solandoan+=1 \n",
    "        songuoi=int(input(\"Máy đoán [1..100], mời bạn đoán:\")) \n",
    "        print(\"Bạn đoán lần thứ \",solandoan) \n",
    "        if somay==songuoi: \n",
    "            print(\"Chúc mừng bạn đoán đúng, số máy là=\",somay) \n",
    "            win=True \n",
    "            break \n",
    "        if somay>songuoi: \n",
    "            print(\"Bạn đoán sai, số máy > số bạn\") \n",
    "        elif somay<songuoi: \n",
    "            print(\"Bạn đoán sai, số máy < số bạn\") \n",
    "    if win==False: \n",
    "        print(\"GAME OVER!, số máy =\",somay) \n",
    "    hoi=input(\"Tiếp không?\") \n",
    "    if hoi==\"k\": \n",
    "        break \n",
    "print(\"Cám ơn bạn đã chơi Game!\")"
   ]
  },
  {
   "cell_type": "code",
   "execution_count": 6,
   "id": "607e67c7",
   "metadata": {},
   "outputs": [
    {
     "name": "stdout",
     "output_type": "stream",
     "text": [
      "Câu 3: Viết hàm tính BMI\n",
      "Nhập vào chiều cao:\n",
      "Nhập vào cân nặng:\n",
      "BMI của bạn= 0.0020761245674740486\n",
      "Phân loại bạn= Gầy\n",
      "Nguy cơ bệnh của bạn= Thấp\n"
     ]
    }
   ],
   "source": [
    "print('Câu 3: Viết hàm tính BMI')\n",
    "def BMI(height,weight): \n",
    "    return weight/(height**2) \n",
    "def PhanLoai(bmi): \n",
    "    if bmi<18.5: \n",
    "        return \"Gầy\" \n",
    "    elif bmi<=24.9: \n",
    "        return \"Bình thường\" \n",
    "    elif bmi<=29.9: \n",
    "        return \"Hơi Béo\" \n",
    "    elif bmi<=34.9: \n",
    "        return \"Béo Phì Cấp Độ 1\" \n",
    "    elif bmi<=39.9: \n",
    "        return \"Béo Phì Cấp Độ 2\" \n",
    "    else: \n",
    "        return \"Béo Phì Cấp độ 3\" \n",
    "def NguyCoBenh(bmi): \n",
    "    if bmi<18.5: \n",
    "        return \"Thấp\" \n",
    "    elif bmi<=24.9: \n",
    "        return \"Trung Bình\" \n",
    "    elif bmi<=29.9: \n",
    "        return \"Cao\" \n",
    "    elif bmi<=34.9: \n",
    "        return \"Cao\" \n",
    "    elif bmi<=39.9: \n",
    "        return \"Rất cao\" \n",
    "    else: \n",
    "        return \"Nguy Hiểm\" \n",
    "print(\"Nhập vào chiều cao:\") \n",
    "height=float(input()) \n",
    "print(\"Nhập vào cân nặng:\") \n",
    "weight=float(input()) \n",
    "bmi=BMI(height,weight) \n",
    "print(\"BMI của bạn=\",bmi) \n",
    "print(\"Phân loại bạn=\",PhanLoai(bmi)) \n",
    "print(\"Nguy cơ bệnh của bạn=\",NguyCoBenh(bmi)) "
   ]
  },
  {
   "cell_type": "code",
   "execution_count": 7,
   "id": "17edc744",
   "metadata": {},
   "outputs": [
    {
     "name": "stdout",
     "output_type": "stream",
     "text": [
      "Câu 4: Viết Hàm tính ROI\n",
      "Chương trình tính ROI\n",
      "Tỉ Lệ ROI= 5.586169045005488\n",
      "==> Nên đầu tư\n"
     ]
    }
   ],
   "source": [
    "print('Câu 4: Viết Hàm tính ROI')\n",
    "def ROI(dt,cp): \n",
    "    return (dt-cp)/cp \n",
    "def GoiYDauTu(roi): \n",
    "    if roi>=0.75: \n",
    "        return \"Nên đầu tư\" \n",
    "    else: \n",
    "        return \"Không nên đầu tư\" \n",
    "print(\"Chương trình tính ROI\") \n",
    "dt=int(input(\"Nhập Doanh Thu:\")) \n",
    "cp=int(input(\"Nhập chi phí:\")) \n",
    "roi=ROI(dt,cp) \n",
    "print(\"Tỉ Lệ ROI=\",roi) \n",
    "print(\"==>\",GoiYDauTu(roi)) "
   ]
  },
  {
   "cell_type": "code",
   "execution_count": 8,
   "id": "66ff9759",
   "metadata": {},
   "outputs": [
    {
     "name": "stdout",
     "output_type": "stream",
     "text": [
      "Câu 5: Viết hàm đệ qui Fibonacci\n",
      "34\n",
      "1\t1\t2\t3\t5\t8\t13\t21\t34\t"
     ]
    }
   ],
   "source": [
    "print('Câu 5: Viết hàm đệ qui Fibonacci')\n",
    "def fibonacci(n): \n",
    "    if n<=2 : \n",
    "        return 1 \n",
    "    return fibonacci(n-1)+fibonacci(n-2) \n",
    " \n",
    "def listfibo(n): \n",
    "    for i in range(1,n+1): \n",
    "        print(fibonacci(i),end='\\t') \n",
    " \n",
    "print(fibonacci(9)) \n",
    " \n",
    "listfibo(9) "
   ]
  },
  {
   "cell_type": "code",
   "execution_count": 12,
   "id": "26b42cec",
   "metadata": {},
   "outputs": [
    {
     "name": "stdout",
     "output_type": "stream",
     "text": [
      "Câu 6: Những giá trị nào có thể xuất hiện trong randrange(0, 100)\n",
      "53 97 89 32 26 41 70 40 7 17 49 33 20 18 30 29 24 49 96 99 \n",
      "=> có thể xuất hiện 0, 34, 99, nhưng không bao giờ ra -1, 100 hay 4.5.\n"
     ]
    }
   ],
   "source": [
    "print('Câu 6: Những giá trị nào có thể xuất hiện trong randrange(0, 100)')\n",
    "'''Yêu cầu: \n",
    "Những giá trị nào có thể xuất hiện khi chạy randrange(0, 100)? \n",
    " 4.5 , 34 , -1,  100,  0,  99 '''\n",
    "import random\n",
    "for i in range(20):\n",
    "    x = random.randrange(0, 100)\n",
    "    print(x, end=\" \")\n",
    "print('\\n=> có thể xuất hiện 0, 34, 99, nhưng không bao giờ ra -1, 100 hay 4.5.')\n",
    "\n"
   ]
  },
  {
   "cell_type": "code",
   "execution_count": 14,
   "id": "3be3e4a1",
   "metadata": {},
   "outputs": [
    {
     "name": "stdout",
     "output_type": "stream",
     "text": [
      "Câu 7: Tính và xuất độ dài đoạn AB\n",
      "Độ dài đoạn AB = 6.4031242374328485\n"
     ]
    }
   ],
   "source": [
    "print('Câu 7: Tính và xuất độ dài đoạn AB')\n",
    "from math import sqrt\n",
    "xA = float(input(\"Nhập hoành độ xA: \"))\n",
    "yA = float(input(\"Nhập tung độ yA: \"))\n",
    "xB = float(input(\"Nhập hoành độ xB: \"))\n",
    "yB = float(input(\"Nhập tung độ yB: \"))\n",
    "\n",
    "AB = sqrt((xB - xA)**2 + (yB - yA)**2)\n",
    "\n",
    "print(\"Độ dài đoạn AB =\", AB)"
   ]
  },
  {
   "cell_type": "code",
   "execution_count": 21,
   "id": "e0a70cb1",
   "metadata": {},
   "outputs": [
    {
     "name": "stdout",
     "output_type": "stream",
     "text": [
      "Câu 8: Viết chương trình tính loga x\n",
      "log_5(7) = 1.2090619551221675\n"
     ]
    }
   ],
   "source": [
    "print('Câu 8: Viết chương trình tính loga x')\n",
    "from math import log\n",
    "a = float(input(\"Nhập cơ số a (a > 0 và a ≠ 1): \"))\n",
    "x = float(input(\"Nhập số x (x > 0): \"))\n",
    "\n",
    "if a > 0 and a != 1 and x > 0:\n",
    "    loga_x = log(x) / log(a)\n",
    "    print(f\"log_{int(a)}({int(x)}) = {loga_x}\")\n",
    "else:\n",
    "    print(\"Dữ liệu không hợp lệ! Yêu cầu: x > 0, a > 0 và a ≠ 1.\")\n",
    "\n"
   ]
  },
  {
   "cell_type": "code",
   "execution_count": 25,
   "id": "bb3984b2",
   "metadata": {},
   "outputs": [
    {
     "name": "stdout",
     "output_type": "stream",
     "text": [
      "Câu 9: Viết chương trình tính căn bậc 2 lồng nhau\n",
      "S(5) = 1.9975909124103448\n"
     ]
    }
   ],
   "source": [
    "print('Câu 9: Viết chương trình tính căn bậc 2 lồng nhau')\n",
    "from math import sqrt\n",
    "n = int(input(\"Nhập n (số lần lồng căn): \"))\n",
    "\n",
    "S = 0\n",
    "for i in range(n):\n",
    "    S = sqrt(2 + S)\n",
    "\n",
    "print(f\"S({n}) = {S}\")\n"
   ]
  },
  {
   "cell_type": "code",
   "execution_count": 26,
   "id": "afaabf58",
   "metadata": {},
   "outputs": [
    {
     "name": "stdout",
     "output_type": "stream",
     "text": [
      "Câu 10: Vẽ hình dùng Sleep\n"
     ]
    }
   ],
   "source": [
    "print('Câu 10: Vẽ hình dùng Sleep')\n"
   ]
  },
  {
   "cell_type": "code",
   "execution_count": 32,
   "id": "43061d45",
   "metadata": {},
   "outputs": [
    {
     "name": "stdout",
     "output_type": "stream",
     "text": [
      "Câu 11: Kiểm tra kết quả thực hiện\n",
      "Trường hợp 1:\n",
      "5\n",
      "5\n",
      "0\n",
      "Trường hợp 2:\n",
      "5\n",
      "5\n",
      "5\n",
      "Trường hợp 3:\n",
      "5\n",
      "5\n",
      "0\n"
     ]
    }
   ],
   "source": [
    "print('Câu 11: Kiểm tra kết quả thực hiện')\n",
    "def sum1(n): \n",
    "    s = 0 \n",
    "    while n > 0: \n",
    "        s += 1 \n",
    "        n -= 1 \n",
    "    return s \n",
    "def sum2(): \n",
    "    global val \n",
    "    s = 0 \n",
    "    while val > 0: \n",
    "        s += 1 \n",
    "        val -= 1 \n",
    "    return s \n",
    "def sum3(): \n",
    "    s = 0 \n",
    "    for i in range(val, 0, -1): \n",
    "        s += 1 \n",
    "    return s\n",
    "print('Trường hợp 1:') \n",
    "def main(): \n",
    "    global val \n",
    "    val = 5 \n",
    "    print(sum1(5)) \n",
    "    print(sum2()) \n",
    "    print(sum3()) \n",
    "main()\n",
    "print('Trường hợp 2:')\n",
    "def main(): \n",
    "    global val \n",
    "val = 5 \n",
    "print(sum1(5)) \n",
    "print(sum3()) \n",
    "print(sum2()) \n",
    "main() \n",
    "print('Trường hợp 3:')\n",
    "def main(): \n",
    "    global val \n",
    "val = 5 \n",
    "print(sum2()) \n",
    "print(sum1(5)) \n",
    "print(sum3()) \n",
    "main() \n"
   ]
  },
  {
   "cell_type": "code",
   "execution_count": 34,
   "id": "5a2089a9",
   "metadata": {},
   "outputs": [
    {
     "name": "stdout",
     "output_type": "stream",
     "text": [
      "Câu 12: Hàm oscillate\n",
      "-3 3 -2 2 -1 1 0 0 1 -1 2 -2 3 -3 4 -4 5 -5 "
     ]
    }
   ],
   "source": [
    "print('Câu 12: Hàm oscillate')\n",
    "def oscillate(start, end):\n",
    "    for i in range(start, end + 1):\n",
    "        yield i\n",
    "        yield -i\n",
    "\n",
    "# Chạy thử\n",
    "for n in oscillate(-3, 5):\n",
    "    print(n, end=' ')\n"
   ]
  },
  {
   "cell_type": "code",
   "execution_count": null,
   "id": "cabba73b",
   "metadata": {},
   "outputs": [
    {
     "name": "stdout",
     "output_type": "stream",
     "text": [
      "Câu 13: Hàm kiểm tra số hoàn thiện, số thịnh vượng\n",
      "12 là số thịnh vượng\n"
     ]
    }
   ],
   "source": [
    "print('Câu 13: Hàm kiểm tra số hoàn thiện, số thịnh vượng')\n",
    "def tong_uoc_so(n):\n",
    "    tong = 0\n",
    "    for i in range(1, n):   \n",
    "        if n % i == 0:\n",
    "            tong += i\n",
    "    return tong\n",
    "\n",
    "def la_so_hoan_thien(n):\n",
    "    return tong_uoc_so(n) == n\n",
    "def la_so_thinh_vuong(n):\n",
    "    return tong_uoc_so(n) > n\n",
    "\n",
    "n = int(input(\"Nhập số nguyên dương n: \"))\n",
    "\n",
    "if la_so_hoan_thien(n):\n",
    "    print(f\"{n} là số hoàn thiện\")\n",
    "elif la_so_thinh_vuong(n):\n",
    "    print(f\"{n} là số thịnh vượng\")\n",
    "else:\n",
    "    print(f\"{n} không phải số hoàn thiện, cũng không phải số thịnh vượng\")"
   ]
  }
 ],
 "metadata": {
  "kernelspec": {
   "display_name": "Python 3",
   "language": "python",
   "name": "python3"
  },
  "language_info": {
   "codemirror_mode": {
    "name": "ipython",
    "version": 3
   },
   "file_extension": ".py",
   "mimetype": "text/x-python",
   "name": "python",
   "nbconvert_exporter": "python",
   "pygments_lexer": "ipython3",
   "version": "3.13.7"
  }
 },
 "nbformat": 4,
 "nbformat_minor": 5
}
