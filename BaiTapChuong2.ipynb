{
 "cells": [
  {
   "cell_type": "code",
   "execution_count": 2,
   "id": "361d98b1",
   "metadata": {},
   "outputs": [
    {
     "name": "stdout",
     "output_type": "stream",
     "text": [
      "Câu 1: Chương trình tính diện tích hình tròn\n",
      "Chu vi = 18.84955592153876\n",
      "Diện tích= 9.0\n"
     ]
    }
   ],
   "source": [
    "print('Câu 1: Chương trình tính diện tích hình tròn')\n",
    "import math\n",
    "try:\n",
    "    r=float(input(\"Mời bạn nhập bán kính hình tròn:\"))\n",
    "    cv=2*math.pi*r\n",
    "    dt=r**2\n",
    "    print(\"Chu vi =\",cv)\n",
    "    print(\"Diện tích=\",dt)\n",
    "except:\n",
    "    print(\"Lỗi rồi!\")\n"
   ]
  }
 ],
 "metadata": {
  "kernelspec": {
   "display_name": "Python 3",
   "language": "python",
   "name": "python3"
  },
  "language_info": {
   "codemirror_mode": {
    "name": "ipython",
    "version": 3
   },
   "file_extension": ".py",
   "mimetype": "text/x-python",
   "name": "python",
   "nbconvert_exporter": "python",
   "pygments_lexer": "ipython3",
   "version": "3.13.7"
  }
 },
 "nbformat": 4,
 "nbformat_minor": 5
}
