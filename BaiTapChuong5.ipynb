{
 "cells": [
  {
   "cell_type": "code",
   "execution_count": 1,
   "id": "206323bc",
   "metadata": {},
   "outputs": [
    {
     "name": "stdout",
     "output_type": "stream",
     "text": [
      "Câu 1: Kiểm tra chuỗi đối xứng\n",
      "Nhập 1 chuỗi:\n",
      "Chuỗi bạn nhập không đối xứng\n",
      "Tiếp tục?(c/k):\n",
      "CÁM ƠN BẠN\n",
      "Nhập 1 chuỗi:\n",
      "Chuỗi bạn nhập đối xứng\n",
      "Tiếp tục?(c/k):\n"
     ]
    }
   ],
   "source": [
    "print('Câu 1: Kiểm tra chuỗi đối xứng')\n",
    "def CheckDoiXung(s): \n",
    "    flag=True \n",
    "    for i in range(len(s)): \n",
    "        if s[i]!=s[len(s)-i-1]: \n",
    "            flag=False \n",
    "            break \n",
    "    return flag \n",
    "def main(): \n",
    "    print(\"Nhập 1 chuỗi:\") \n",
    "    s=input() \n",
    "    if(CheckDoiXung(s)): \n",
    "        print(\"Chuỗi bạn nhập đối xứng\") \n",
    "    else: \n",
    "        print(\"Chuỗi bạn nhập không đối xứng\") \n",
    "while True: \n",
    "    main() \n",
    "    print(\"Tiếp tục?(c/k):\") \n",
    "    s=input() \n",
    "    if s==\"k\": \n",
    "        break \n",
    "    print(\"CÁM ƠN BẠN\")    "
   ]
  },
  {
   "cell_type": "code",
   "execution_count": 4,
   "id": "c9cd2c33",
   "metadata": {},
   "outputs": [
    {
     "name": "stdout",
     "output_type": "stream",
     "text": [
      "Câu 2: Viết chương trình tối ưu chuỗi\n",
      "    Tùng     Sườn          36    => 32\n",
      "Tùng Sườn 36 => 12\n"
     ]
    }
   ],
   "source": [
    "print('Câu 2: Viết chương trình tối ưu chuỗi')\n",
    "def ToiUuChuoi(s): \n",
    "    s2=s \n",
    "    s2=s2.strip() \n",
    "    arr=s2.split(' ') \n",
    "    s2=\"\" \n",
    "    for x in arr: \n",
    "        word=x \n",
    "        if len(word.strip())!=0: \n",
    "            s2=s2+word+\" \" \n",
    "    return s2.strip() \n",
    " \n",
    "s=\"    Tùng     Sườn          36   \" \n",
    "print(s,\"=>\",len(s)) \n",
    "s=ToiUuChuoi(s) \n",
    "print(s,\"=>\",len(s)) "
   ]
  },
  {
   "cell_type": "code",
   "execution_count": 5,
   "id": "c906e7c9",
   "metadata": {},
   "outputs": [
    {
     "name": "stdout",
     "output_type": "stream",
     "text": [
      "Câu 3: Xử lý Tách chuỗi\n",
      "5\n",
      "7\n",
      "8\n",
      "-2\n",
      "8\n",
      "11\n",
      "-13\n",
      "9\n",
      "10\n",
      "Số chẵn = 4\n",
      "Số âm = 2\n",
      "Số Nguyên tố = 3\n",
      "Trung bình= 4.777777777777778\n"
     ]
    }
   ],
   "source": [
    "print('Câu 3: Xử lý Tách chuỗi')\n",
    "def CheckPrime(x): \n",
    "    dem=0 \n",
    "    for i in range(1,x+1): \n",
    "        if x % i ==0: \n",
    "            dem+=1 \n",
    "    return dem==2 \n",
    "s=\"5;7;8;-2;8;11;-13;9;10\" \n",
    "arr=s.split(';') \n",
    "sochan=0 \n",
    "soam=0 \n",
    "sont=0 \n",
    "sum=0 \n",
    "for x in arr: \n",
    "    print(x) \n",
    "    number=int(x) \n",
    "    if number %  2 ==0: \n",
    "        sochan+=1 \n",
    "    if number <0: \n",
    "        soam+=1 \n",
    "    if CheckPrime(number): \n",
    "        sont+=1 \n",
    "    sum=sum+number \n",
    "print(\"Số chẵn =\",sochan) \n",
    "print(\"Số âm =\",soam) \n",
    "print(\"Số Nguyên tố =\",sont) \n",
    "print(\"Trung bình=\",sum/len(arr)) "
   ]
  },
  {
   "cell_type": "code",
   "execution_count": 7,
   "id": "66b4853a",
   "metadata": {},
   "outputs": [
    {
     "name": "stdout",
     "output_type": "stream",
     "text": [
      "Câu 4: Các hàm quan trọng trong xử lý chuỗi của Python\n",
      "------ Kết quả ------\n",
      "Số chữ IN HOA: 2\n",
      "Số chữ in thường: 6\n",
      "Số chữ là chữ số: 2\n",
      "Số chữ là ký tự đặc biệt: 0\n",
      "Số chữ là khoảng trắng: 2\n",
      "Số chữ Nguyên Âm: 0\n",
      "Số chữ Phụ Âm: 8\n"
     ]
    }
   ],
   "source": [
    "print('Câu 4: Các hàm quan trọng trong xử lý chuỗi của Python')\n",
    "s = input(\"Nhập chuỗi: \")\n",
    "\n",
    "hoa = thuong = so = dac_biet = khoang_trang = nguyen_am = phu_am = 0\n",
    "nguyen_am_set = \"AEIOUaeiou\"\n",
    "\n",
    "for ch in s:\n",
    "    if ch.isupper():\n",
    "        hoa += 1\n",
    "    elif ch.islower():\n",
    "        thuong += 1\n",
    "\n",
    "    if ch.isdigit():\n",
    "        so += 1\n",
    "    elif not ch.isalnum() and not ch.isspace():\n",
    "        dac_biet += 1\n",
    "\n",
    "    if ch.isspace():\n",
    "        khoang_trang += 1\n",
    "\n",
    "    if ch.isalpha():\n",
    "        if ch in nguyen_am_set:\n",
    "            nguyen_am += 1\n",
    "        else:\n",
    "            phu_am += 1\n",
    "\n",
    "print(\"------ Kết quả ------\")\n",
    "print(\"Số chữ IN HOA:\", hoa)\n",
    "print(\"Số chữ in thường:\", thuong)\n",
    "print(\"Số chữ là chữ số:\", so)\n",
    "print(\"Số chữ là ký tự đặc biệt:\", dac_biet)\n",
    "print(\"Số chữ là khoảng trắng:\", khoang_trang)\n",
    "print(\"Số chữ Nguyên Âm:\", nguyen_am)\n",
    "print(\"Số chữ Phụ Âm:\", phu_am)\n"
   ]
  },
  {
   "cell_type": "code",
   "execution_count": null,
   "id": "f48ad3c3",
   "metadata": {},
   "outputs": [
    {
     "name": "stdout",
     "output_type": "stream",
     "text": [
      "Câu 6: Trích lọc sô âm trong chuỗi\n",
      "Chuỗi: abc-5xyz-12k9l--p\n",
      "Các số nguyên âm tìm được: [-5, -12]\n"
     ]
    }
   ],
   "source": [
    "print('Câu 6: Trích lọc sô âm trong chuỗi')\n",
    "def NegativeNumberInStrings(s):\n",
    "    so_am = []\n",
    "    i = 0\n",
    "    while i < len(s):\n",
    "        if s[i] == '-' and i+1 < len(s) and s[i+1].isdigit():\n",
    "            num = '-'\n",
    "            i += 1\n",
    "            while i < len(s) and s[i].isdigit():\n",
    "                num += s[i]\n",
    "                i += 1\n",
    "            so_am.append(int(num))\n",
    "        else:\n",
    "            i += 1\n",
    "    return so_am\n",
    "chuoi = \"abc-5xyz-12k9l--p\"\n",
    "print(\"Chuỗi:\", chuoi)\n",
    "print(\"Các số nguyên âm tìm được:\", NegativeNumberInStrings(chuoi))"
   ]
  },
  {
   "cell_type": "code",
   "execution_count": 9,
   "id": "3de5a90d",
   "metadata": {},
   "outputs": [
    {
     "name": "stdout",
     "output_type": "stream",
     "text": [
      "Câu 7: Tối ưu chuỗi danh từ\n",
      "Chuỗi gốc: '    TRần    duY    ThaNh   '\n",
      "Chuỗi tối ưu: Trần Duy Thanh\n"
     ]
    }
   ],
   "source": [
    "print('Câu 7: Tối ưu chuỗi danh từ')\n",
    "def toi_uu_chuoi(s):\n",
    "    tu = s.strip().split()\n",
    "    tu = [word.capitalize() for word in tu]\n",
    "    return \" \".join(tu)\n",
    "s = \"    TRần    duY    ThaNh   \"\n",
    "print(\"Chuỗi gốc:\", repr(s))\n",
    "print(\"Chuỗi tối ưu:\", toi_uu_chuoi(s))"
   ]
  },
  {
   "cell_type": "code",
   "execution_count": 10,
   "id": "4556915f",
   "metadata": {},
   "outputs": [
    {
     "name": "stdout",
     "output_type": "stream",
     "text": [
      "Câu 8: Tách lấy tên bài hát\n",
      "Đường dẫn: d:\\music\\muabui.mp3\n",
      "Tên file: muabui.mp3\n",
      "Tên không đuôi: muabui\n"
     ]
    }
   ],
   "source": [
    "print('Câu 8: Tách lấy tên bài hát')\n",
    "def get_filename(path):\n",
    "    return path.split(\"\\\\\")[-1]\n",
    "\n",
    "def get_name_without_ext(path):\n",
    "    filename = get_filename(path)\n",
    "    return filename.rsplit(\".\", 1)[0]\n",
    "\n",
    "\n",
    "path = r\"d:\\music\\muabui.mp3\"\n",
    "print(\"Đường dẫn:\", path)\n",
    "print(\"Tên file:\", get_filename(path))\n",
    "print(\"Tên không đuôi:\", get_name_without_ext(path))"
   ]
  }
 ],
 "metadata": {
  "kernelspec": {
   "display_name": "Python 3",
   "language": "python",
   "name": "python3"
  },
  "language_info": {
   "codemirror_mode": {
    "name": "ipython",
    "version": 3
   },
   "file_extension": ".py",
   "mimetype": "text/x-python",
   "name": "python",
   "nbconvert_exporter": "python",
   "pygments_lexer": "ipython3",
   "version": "3.13.7"
  }
 },
 "nbformat": 4,
 "nbformat_minor": 5
}
